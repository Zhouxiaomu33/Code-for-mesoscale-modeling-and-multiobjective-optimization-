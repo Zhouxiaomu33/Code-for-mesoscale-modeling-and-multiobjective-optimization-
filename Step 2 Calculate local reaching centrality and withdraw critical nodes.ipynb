{
 "cells": [
  {
   "cell_type": "code",
   "execution_count": 1,
   "metadata": {},
   "outputs": [],
   "source": [
    "import wntr\n",
    "import networkx as nx"
   ]
  },
  {
   "cell_type": "code",
   "execution_count": 2,
   "metadata": {},
   "outputs": [],
   "source": [
    "import pickle"
   ]
  },
  {
   "cell_type": "code",
   "execution_count": 34,
   "metadata": {},
   "outputs": [],
   "source": [
    "Wdn = wntr.network.WaterNetworkModel('EXN.inp') "
   ]
  },
  {
   "cell_type": "code",
   "execution_count": 35,
   "metadata": {},
   "outputs": [],
   "source": [
    "Wdn.options.time.duration = 1 * 3600\n",
    "Sim = wntr.sim.EpanetSimulator(Wdn)\n",
    "Results = Sim.run_sim()"
   ]
  },
  {
   "cell_type": "code",
   "execution_count": 36,
   "metadata": {},
   "outputs": [],
   "source": [
    "Flow = Results.link['flowrate']"
   ]
  },
  {
   "cell_type": "code",
   "execution_count": 37,
   "metadata": {},
   "outputs": [],
   "source": [
    "def path_strength(graph, path):\n",
    "        return sum([graph[path[i]][path[i+1]]['weight'] for i in range(len(path)-1)])"
   ]
  },
  {
   "cell_type": "code",
   "execution_count": 30,
   "metadata": {},
   "outputs": [],
   "source": [
    "# Create hydraulic-informed network \n",
    "def creathydnet(wdn, flow, t): \n",
    "    # Build two directed graphs, dgraph: normal weight, rdgraph: reversed weight \n",
    "    dgraph = nx.DiGraph()\n",
    "    rdgraph = nx.DiGraph()\n",
    "    # Use link (pipe, valve) diameter as the main selection criteria\n",
    "    for name, link in wdn.links():\n",
    "        # Determine the direction of edge through the flow rate, positive: as stored, negative: change direction\n",
    "        linkflow = flow.loc[3600*t, name]\n",
    "        if linkflow >= 0:\n",
    "            start_node = link.start_node_name\n",
    "            end_node = link.end_node_name\n",
    "        else:\n",
    "            start_node = link.end_node_name\n",
    "            end_node = link.start_node_name\n",
    "        if link.link_type == 'Pipe':\n",
    "            pidia = link.diameter\n",
    "            linkweight = (abs(linkflow)*pidia**2)  \n",
    "        # Pumps and valves have larger weight\n",
    "        elif link.link_type == 'Pump' or link.link_type == 'Valve':\n",
    "            linkweight = abs(linkflow)\n",
    "        # Build corresponding original network\n",
    "        if linkweight < 1e-6:\n",
    "            reverseweight = 1e6\n",
    "        else:\n",
    "            reverseweight = 1/linkweight  \n",
    "        dgraph.add_node(start_node, pos = wdn.get_node(start_node).coordinates)\n",
    "        dgraph.add_node(end_node, pos = wdn.get_node(end_node).coordinates)\n",
    "        dgraph.add_edge(start_node, end_node, linkid = name, weight = linkweight)\n",
    "        rdgraph.add_edge(start_node, end_node,  weight = reverseweight)\n",
    "    return dgraph, rdgraph "
   ]
  },
  {
   "cell_type": "code",
   "execution_count": 31,
   "metadata": {},
   "outputs": [],
   "source": [
    "# Calculate the local reaching centrality of each node\n",
    "def calculateLRC(dgraph, rdgraph):\n",
    "    lcrect = {}\n",
    "    nodelist = list(dgraph.nodes)\n",
    "    # For each node i, get its reachable nodes and the path length\n",
    "    for nodei in nodelist:\n",
    "        # Get its all downstream nodes\n",
    "        dni = list(nx.algorithms.dag.descendants(dgraph, nodei))\n",
    "        # For each (i,j) connection, calculate the weighted reachability\n",
    "        cri = 0\n",
    "        for nodej in dni:\n",
    "            # Find all the paths (i,j) and get the one with larhest stength\n",
    "            # Path is the the one with shortest for rdgraph \n",
    "            path = nx.algorithms.shortest_paths.generic.shortest_path(rdgraph, source=nodei, target=nodej, weight=\"weight\")\n",
    "            # Calculate the path length for dgraph\n",
    "            weight_path_strength = path_strength(dgraph, path)\n",
    "            path_length = len(path) - 1\n",
    "            # Calculate the weighted contribution to local reaching centrality \n",
    "            cri += weight_path_strength/path_length\n",
    "        # Store its local reaching centrality   \n",
    "        lcrect[nodei] = cri/(len(nodelist)-1)\n",
    "    return lcrect"
   ]
  },
  {
   "cell_type": "code",
   "execution_count": 38,
   "metadata": {},
   "outputs": [],
   "source": [
    "T = 1\n",
    "Dgraph, Rdgraph = creathydnet(Wdn, Flow, T)"
   ]
  },
  {
   "cell_type": "code",
   "execution_count": 39,
   "metadata": {},
   "outputs": [],
   "source": [
    "LRC = calculateLRC(Dgraph, Rdgraph)"
   ]
  },
  {
   "cell_type": "code",
   "execution_count": 40,
   "metadata": {},
   "outputs": [],
   "source": [
    "# Save the LRC to pickle \n",
    "FLRC = open(r\"%s.pickle\" % ('EXN_LRC'), 'wb')\n",
    "pickle.dump(LRC, FLRC)\n",
    "FLRC.close()"
   ]
  },
  {
   "cell_type": "code",
   "execution_count": null,
   "metadata": {},
   "outputs": [],
   "source": []
  }
 ],
 "metadata": {
  "kernelspec": {
   "display_name": "Python 3",
   "language": "python",
   "name": "python3"
  },
  "language_info": {
   "codemirror_mode": {
    "name": "ipython",
    "version": 3
   },
   "file_extension": ".py",
   "mimetype": "text/x-python",
   "name": "python",
   "nbconvert_exporter": "python",
   "pygments_lexer": "ipython3",
   "version": "3.8.3"
  }
 },
 "nbformat": 4,
 "nbformat_minor": 4
}
