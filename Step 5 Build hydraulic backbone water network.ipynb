{
 "cells": [
  {
   "cell_type": "code",
   "execution_count": 9,
   "metadata": {},
   "outputs": [],
   "source": [
    "# Import essential packages\n",
    "import wntr\n",
    "import pickle\n",
    "import networkx as nx\n",
    "import matplotlib\n",
    "import matplotlib.pyplot as plt\n",
    "import numpy as np\n",
    "# \"the default sans-serif font is Arial\"\n",
    "matplotlib.rcParams['font.sans-serif'] = \"Arial\"\n",
    "# Then, \"ALWAYS use sans-serif fonts\"\n",
    "matplotlib.rcParams['font.family'] = \"sans-serif\"\n",
    "matplotlib.rcParams.update({'font.size': 8})"
   ]
  },
  {
   "cell_type": "code",
   "execution_count": 15,
   "metadata": {},
   "outputs": [],
   "source": [
    "# Load the backbone network\n",
    "FBackbone_network = open(r'CoH_Backbone_network.pickle', 'rb')\n",
    "Backbone_network = pickle.load(FBackbone_network)\n",
    "FBackbone_network.close()"
   ]
  },
  {
   "cell_type": "code",
   "execution_count": 11,
   "metadata": {},
   "outputs": [
    {
     "name": "stderr",
     "output_type": "stream",
     "text": [
      "C:\\Users\\Zhouxiaomu\\anaconda3\\lib\\site-packages\\wntr\\epanet\\io.py:2085: UserWarning: Not all curves were used in \"S_CoH_460MGD_2018.inp\"; added with type None, units conversion left to user\n",
      "  warnings.warn('Not all curves were used in \"{}\"; added with type None, units conversion left to user'.format(self.wn.name))\n"
     ]
    }
   ],
   "source": [
    "Wdn = wntr.network.WaterNetworkModel(r'S_CoH_460MGD_2018.inp')"
   ]
  },
  {
   "cell_type": "code",
   "execution_count": 12,
   "metadata": {},
   "outputs": [],
   "source": [
    "# Remove node and links from Wdn\n",
    "def remove_elements(wdn, backbone_network):\n",
    "    # Remove the links that either one or two end nodes not in the dgraph\n",
    "    backbone_nodes = list(backbone_network.nodes)\n",
    "    link_remove = []\n",
    "    node_remove = []\n",
    "    for name, link in wdn.links():\n",
    "        start_node = link.start_node_name\n",
    "        end_node = link.end_node_name\n",
    "        if (start_node not in backbone_nodes) and (end_node not in backbone_nodes):\n",
    "            link_remove.append(name)\n",
    "            node_remove.append(start_node)\n",
    "            node_remove.append(end_node)\n",
    "        elif start_node not in backbone_nodes:\n",
    "            link_remove.append(name)\n",
    "            node_remove.append(start_node)\n",
    "        elif end_node not in backbone_nodes:\n",
    "            link_remove.append(name)\n",
    "            node_remove.append(end_node)\n",
    "    for lr in link_remove:\n",
    "        wdn.remove_link(lr, force=True)\n",
    "    for nr in node_remove:\n",
    "        try:\n",
    "            wdn.remove_node(nr, force=True)\n",
    "        except:\n",
    "            pass    \n",
    "    return wdn"
   ]
  },
  {
   "cell_type": "code",
   "execution_count": 16,
   "metadata": {},
   "outputs": [],
   "source": [
    "Wdn_modified = remove_elements(Wdn, Backbone_network)"
   ]
  },
  {
   "cell_type": "code",
   "execution_count": 17,
   "metadata": {},
   "outputs": [],
   "source": [
    "Wdn_modified.write_inpfile(r'CoH_Backbone_Final.inp')"
   ]
  },
  {
   "cell_type": "code",
   "execution_count": null,
   "metadata": {},
   "outputs": [],
   "source": []
  }
 ],
 "metadata": {
  "kernelspec": {
   "display_name": "Python 3",
   "language": "python",
   "name": "python3"
  },
  "language_info": {
   "codemirror_mode": {
    "name": "ipython",
    "version": 3
   },
   "file_extension": ".py",
   "mimetype": "text/x-python",
   "name": "python",
   "nbconvert_exporter": "python",
   "pygments_lexer": "ipython3",
   "version": "3.8.3"
  }
 },
 "nbformat": 4,
 "nbformat_minor": 4
}
