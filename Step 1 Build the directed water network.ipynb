{
 "cells": [
  {
   "cell_type": "code",
   "execution_count": 50,
   "metadata": {},
   "outputs": [],
   "source": [
    "import wntr\n",
    "import networkx as nx"
   ]
  },
  {
   "cell_type": "code",
   "execution_count": 51,
   "metadata": {},
   "outputs": [],
   "source": [
    "import pickle"
   ]
  },
  {
   "cell_type": "code",
   "execution_count": 52,
   "metadata": {},
   "outputs": [],
   "source": [
    "import numpy as np"
   ]
  },
  {
   "cell_type": "code",
   "execution_count": 53,
   "metadata": {},
   "outputs": [],
   "source": [
    "Wdn = wntr.network.WaterNetworkModel('EXN.inp')"
   ]
  },
  {
   "cell_type": "code",
   "execution_count": 54,
   "metadata": {},
   "outputs": [],
   "source": [
    "Wdn.options.time.duration = 1 * 3600\n",
    "Sim = wntr.sim.EpanetSimulator(Wdn)\n",
    "Results = Sim.run_sim()"
   ]
  },
  {
   "cell_type": "code",
   "execution_count": 55,
   "metadata": {},
   "outputs": [],
   "source": [
    "Flow = Results.link['flowrate']"
   ]
  },
  {
   "cell_type": "code",
   "execution_count": 56,
   "metadata": {},
   "outputs": [],
   "source": [
    "def build_directed_network(wdn, flow, t):\n",
    "    # Build directed graphs \n",
    "    dgraph = nx.DiGraph()\n",
    "    for name, link in wdn.links():\n",
    "        # Determine the direction of edge through the flow rate, positive: as stored, negative: change direction\n",
    "        linkflow = flow.loc[3600*t, name]\n",
    "        if linkflow >= 0:\n",
    "            start_node = link.start_node_name\n",
    "            end_node = link.end_node_name\n",
    "        else:\n",
    "            start_node = link.end_node_name\n",
    "            end_node = link.start_node_name\n",
    "        # Build corresponding original network\n",
    "        dgraph.add_node(start_node, pos = wdn.get_node(start_node).coordinates)\n",
    "        dgraph.add_node(end_node, pos = wdn.get_node(end_node).coordinates)\n",
    "        dgraph.add_edge(start_node, end_node, linkid = name)\n",
    "    return dgraph "
   ]
  },
  {
   "cell_type": "code",
   "execution_count": 57,
   "metadata": {},
   "outputs": [],
   "source": [
    "T = 1\n",
    "Dgraph = build_directed_network(Wdn, Flow, T)"
   ]
  },
  {
   "cell_type": "code",
   "execution_count": 58,
   "metadata": {},
   "outputs": [],
   "source": [
    "# Save the directed graph to pickle \n",
    "FDgraph = open(r\"%s.pickle\" % ('EXN_Dgraph'), 'wb')\n",
    "pickle.dump(Dgraph, FDgraph)\n",
    "FDgraph.close()"
   ]
  },
  {
   "cell_type": "code",
   "execution_count": 59,
   "metadata": {},
   "outputs": [],
   "source": [
    "# Obtain the shortest distance to each WTPs, if there is no path, the shortest distance will be 10000\n",
    "def node_shortestdistance_wtp(dgraph, sources):\n",
    "    node_list = list(dgraph.nodes)\n",
    "    node_shortestdistance = {}\n",
    "    for node in node_list:\n",
    "        shortestdistance = 10000\n",
    "        for s in sources:\n",
    "            distance = 10000\n",
    "            # If there is a path between the source and the node\n",
    "            try:\n",
    "                path = nx.algorithms.shortest_paths.generic.shortest_path(dgraph, source=s, target=node)\n",
    "                distance = len(path)\n",
    "            except:\n",
    "                pass\n",
    "            if distance < shortestdistance:\n",
    "                shortestdistance = distance\n",
    "        node_shortestdistance[node] = shortestdistance\n",
    "    return node_shortestdistance         "
   ]
  },
  {
   "cell_type": "code",
   "execution_count": 60,
   "metadata": {},
   "outputs": [],
   "source": [
    "Sources = Wdn.reservoir_name_list\n",
    "Node_shortestdistance = node_shortestdistance_wtp(Dgraph, Sources)"
   ]
  },
  {
   "cell_type": "code",
   "execution_count": 61,
   "metadata": {},
   "outputs": [],
   "source": [
    "FNode_shortestdistance = open(r'EXN_Node_shortestdistance.pickle', 'wb')\n",
    "pickle.dump(Node_shortestdistance, FNode_shortestdistance)\n",
    "FNode_shortestdistance.close()"
   ]
  },
  {
   "cell_type": "code",
   "execution_count": 62,
   "metadata": {},
   "outputs": [],
   "source": [
    "Cycles = list(nx.simple_cycles(Dgraph))"
   ]
  },
  {
   "cell_type": "code",
   "execution_count": 63,
   "metadata": {},
   "outputs": [
    {
     "data": {
      "text/plain": [
       "[['288', '316'], ['663', '649']]"
      ]
     },
     "execution_count": 63,
     "metadata": {},
     "output_type": "execute_result"
    }
   ],
   "source": [
    "Cycles"
   ]
  },
  {
   "cell_type": "code",
   "execution_count": 46,
   "metadata": {},
   "outputs": [],
   "source": [
    "def itrate_cyclecs(cycles, node_shortestdistance):\n",
    "    # downsnodes to store all the nodes in the cycles\n",
    "    alldownnodes = []\n",
    "    # allleadnodes to store all the nodes that have the shortest distance to sources in each cycle\n",
    "    allleadnodes = []\n",
    "    for c in cycles:\n",
    "        # Initialize the lead node as the first node in the cycle\n",
    "        leadnode = c[0]\n",
    "        shortestdistance = node_shortestdistance[c[0]]\n",
    "        for node in c:\n",
    "            distance = node_shortestdistance[node]\n",
    "            # if there s\n",
    "            if distance < shortestdistance:\n",
    "                leadnode = node\n",
    "        # If this lead node is not the downnodes of other cycles\n",
    "        if leadnode not in alldownnodes:\n",
    "            allleadnodes.append(leadnode)\n",
    "            alldownnodes += c\n",
    "            alldownnodes.remove(leadnode)\n",
    "            alldownnodes = list(set(alldownnodes))\n",
    "        else:\n",
    "            alldownnodes += c\n",
    "            alldownnodes = list(set(alldownnodes))\n",
    "    return allleadnodes, alldownnodes"
   ]
  },
  {
   "cell_type": "code",
   "execution_count": 47,
   "metadata": {},
   "outputs": [],
   "source": [
    "Allleadnodes, Cycledownnodes = itrate_cyclecs(Cycles, Node_shortestdistance)"
   ]
  },
  {
   "cell_type": "code",
   "execution_count": 48,
   "metadata": {},
   "outputs": [],
   "source": [
    "FAllleadnodes = open(r'ky12_Cycle_leadnodes_9am.pickle', 'wb')\n",
    "pickle.dump(Allleadnodes, FAllleadnodes)\n",
    "FAllleadnodes.close()"
   ]
  },
  {
   "cell_type": "code",
   "execution_count": 49,
   "metadata": {},
   "outputs": [],
   "source": [
    "FCycledownnodes = open(r'ky12_Cycle_downnodes_9am.pickle', 'wb')\n",
    "pickle.dump(Cycledownnodes, FCycledownnodes)\n",
    "FCycledownnodes.close()"
   ]
  },
  {
   "cell_type": "markdown",
   "metadata": {},
   "source": [
    "### Withdraw links that to retain"
   ]
  },
  {
   "cell_type": "code",
   "execution_count": 15,
   "metadata": {},
   "outputs": [],
   "source": [
    "Link_flow = dict(Flow.loc[T*3600])"
   ]
  },
  {
   "cell_type": "code",
   "execution_count": 37,
   "metadata": {},
   "outputs": [],
   "source": [
    "Flow_threshold = np.percentile(list(Link_flow.values()), 5)"
   ]
  },
  {
   "cell_type": "code",
   "execution_count": 25,
   "metadata": {},
   "outputs": [
    {
     "data": {
      "text/plain": [
       "0.152"
      ]
     },
     "execution_count": 25,
     "metadata": {},
     "output_type": "execute_result"
    }
   ],
   "source": [
    "# Get the median diameter as the threshold\n",
    "Pipelist = Wdn.pipe_name_list\n",
    "Diameter = []\n",
    "for P in Pipelist:\n",
    "    Pobject = Wdn.get_link(P)\n",
    "    Diameter.append(Pobject.diameter)\n",
    "Diameter = np.array(Diameter)"
   ]
  },
  {
   "cell_type": "code",
   "execution_count": 33,
   "metadata": {},
   "outputs": [
    {
     "data": {
      "text/plain": [
       "0.305"
      ]
     },
     "execution_count": 33,
     "metadata": {},
     "output_type": "execute_result"
    }
   ],
   "source": [
    "np.percentile(Diameter, 90)"
   ]
  },
  {
   "cell_type": "code",
   "execution_count": 38,
   "metadata": {},
   "outputs": [],
   "source": [
    "def links_remove(wdn, diameter_threshold, flow_threshold, link_flow):\n",
    "    remove = []\n",
    "    for name, linkobject in wdn.links():\n",
    "        try:\n",
    "            d = linkobject.diameter\n",
    "            if (d <= diameter_threshold) and (link_flow[name] < flow_threshold):\n",
    "                remove.append(name)\n",
    "        except:\n",
    "            pass\n",
    "    return remove "
   ]
  },
  {
   "cell_type": "code",
   "execution_count": 39,
   "metadata": {},
   "outputs": [],
   "source": [
    "Diameter_threshold = 0.305\n",
    "Remove = links_remove(Wdn, Diameter_threshold, Flow_threshold, Link_flow)"
   ]
  },
  {
   "cell_type": "code",
   "execution_count": 40,
   "metadata": {},
   "outputs": [],
   "source": [
    "Flinks_remove = open(r'Dtown_links_remove_7am.pickle', 'wb')\n",
    "pickle.dump(Remove, Flinks_remove)\n",
    "Flinks_remove.close()"
   ]
  },
  {
   "cell_type": "code",
   "execution_count": null,
   "metadata": {},
   "outputs": [],
   "source": []
  }
 ],
 "metadata": {
  "kernelspec": {
   "display_name": "Python 3",
   "language": "python",
   "name": "python3"
  },
  "language_info": {
   "codemirror_mode": {
    "name": "ipython",
    "version": 3
   },
   "file_extension": ".py",
   "mimetype": "text/x-python",
   "name": "python",
   "nbconvert_exporter": "python",
   "pygments_lexer": "ipython3",
   "version": "3.8.3"
  }
 },
 "nbformat": 4,
 "nbformat_minor": 4
}
