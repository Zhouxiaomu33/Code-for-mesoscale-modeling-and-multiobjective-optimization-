{
 "cells": [
  {
   "cell_type": "markdown",
   "metadata": {},
   "source": [
    "### Equivalent demand reduction"
   ]
  },
  {
   "cell_type": "code",
   "execution_count": 1,
   "metadata": {},
   "outputs": [],
   "source": [
    "import numpy as np\n",
    "import pickle\n",
    "import wntr\n",
    "import copy"
   ]
  },
  {
   "cell_type": "code",
   "execution_count": 2,
   "metadata": {},
   "outputs": [],
   "source": [
    "import matplotlib\n",
    "import matplotlib.pyplot as plt\n",
    "# \"the default sans-serif font is Arial\"\n",
    "matplotlib.rcParams['font.sans-serif'] = \"Arial\"\n",
    "# Then, \"ALWAYS use sans-serif fonts\"\n",
    "#matplotlib.rcParams['font.family'] = \"sans-serif\"\n",
    "matplotlib.rcParams.update({'font.size': 14})"
   ]
  },
  {
   "cell_type": "code",
   "execution_count": 3,
   "metadata": {},
   "outputs": [
    {
     "name": "stderr",
     "output_type": "stream",
     "text": [
      "C:\\Users\\xz68\\Anaconda3\\lib\\site-packages\\wntr\\epanet\\io.py:2192: UserWarning: Not all curves were used in \"CoH_Backbone_Final.inp\"; added with type None, units conversion left to user\n",
      "  warnings.warn('Not all curves were used in \"{}\"; added with type None, units conversion left to user'.format(self.wn.name))\n"
     ]
    }
   ],
   "source": [
    "Wdn = wntr.network.WaterNetworkModel(r'CoH_Backbone_Final.inp')"
   ]
  },
  {
   "cell_type": "code",
   "execution_count": 4,
   "metadata": {},
   "outputs": [],
   "source": [
    "# Xwu = np.array([4.80382,2.15906,11.40229])\n",
    "DPRlist = ['UB', 'KB', 'BW', 'NW', 'WD', 'AS', 'SW', 'TC', 'WO', 'IAH']\n",
    "Xu = np.array([0.33114048327575885,\n",
    " 0.43659751501715094,\n",
    " 0.24810770502017204,\n",
    " 0.4421810641194354,\n",
    " 0.5349400246169953,\n",
    " 0.5823551632101737,\n",
    " 1.2954734429779715,\n",
    " 0.257563715556331,\n",
    " 0.08105151888136293,\n",
    " 0.07416213977644706])\n",
    "# The amortization parameter to transfer the total cost to annual cost\n",
    "Amortization = 0.074549"
   ]
  },
  {
   "cell_type": "code",
   "execution_count": null,
   "metadata": {},
   "outputs": [],
   "source": []
  },
  {
   "cell_type": "code",
   "execution_count": 5,
   "metadata": {},
   "outputs": [],
   "source": [
    "Tgc = [0.10094432,\n",
    " 0.648567295,\n",
    " 0.11547529999999999,\n",
    " 0,\n",
    " 0.39115924,\n",
    " 0.12618041,\n",
    " 0.1892706,\n",
    " 0.22081569,\n",
    " 0,\n",
    " 0.12618041]"
   ]
  },
  {
   "cell_type": "code",
   "execution_count": 6,
   "metadata": {},
   "outputs": [],
   "source": [
    "DPRBN = {'UB':['357', '237'], 'BW':['2015', '2005', '237'], 'NW': ['503', '3495', '3494'], 'WD':['3913'], 'AS':['21', '1133', '369'],\n",
    "        'SW':['1317', '3920', '1692'], 'TC':['3913'], 'WO':['500'] }\n",
    "BNdemand = {'357':0.2824, '237':0.2831, '2015':0.0025, '2005':0.0049, '503':0.0041, '3495':0.3072, '3494':0.2999, '3913': 0.3813,\n",
    "            '21':0.0222, '1133':0.0259, '369': 0.0536, '1317':0.3177, '3920':0.3352, '1692':0.0436, '500':0.13886}"
   ]
  },
  {
   "cell_type": "code",
   "execution_count": 7,
   "metadata": {},
   "outputs": [],
   "source": [
    "def hydraulic_energy(ei, wdn, x0, x1, x2, x3, x4, x5, x6, x7, x8, x9):\n",
    "    wdnsample = copy.deepcopy(wdn)\n",
    "    saving_gwtp = 0\n",
    "    consump_distr = 0\n",
    "    # x0: 'UB'\n",
    "    if x0 <= 0.1009:\n",
    "        saving_gwtp += (1-ei)*x0\n",
    "    elif 0.1009 < x0 <= 0.3833:\n",
    "        saving_gwtp += (1-ei)*0.1009\n",
    "        node01 = wdnsample.get_node('357')\n",
    "        node01demand = node01.demand_timeseries_list[0].base_value\n",
    "        # The 1.15 factor is the demand pattern factor\n",
    "        node01.demand_timeseries_list[0].base_value = node01demand - 1.15*(x0-0.1009)\n",
    "    elif 0.3833 < x0:\n",
    "        saving_gwtp += (1-ei)*0.1009\n",
    "        node01 = wdnsample.get_node('357')\n",
    "        node01.demand_timeseries_list[0].base_value = 1e-5\n",
    "        node02 = wdnsample.get_node('237')\n",
    "        node02demand = node02.demand_timeseries_list[0].base_value\n",
    "        node02.demand_timeseries_list[0].base_value = node02demand - 1.15*(x0-0.3833)\n",
    "    \n",
    "    # x1: 'KB', its capacity is less than the GWTP demand\n",
    "    saving_gwtp += (1-ei)*x1\n",
    "    \n",
    "    # x2: 'BW'\n",
    "    if x2 <= 0.1155:\n",
    "        saving_gwtp += (1-ei)*x2\n",
    "    elif 0.1155 < x2 <= 0.1180:\n",
    "        saving_gwtp += (1-ei)*0.1155\n",
    "        node21 = wdnsample.get_node('2015')\n",
    "        node21demand = node21.demand_timeseries_list[0].base_value\n",
    "        node21.demand_timeseries_list[0].base_value = node21demand - 1.15*(x2-0.1155)    \n",
    "    elif 0.1180 < x2 <= 0.1229:\n",
    "        saving_gwtp += (1-ei)*0.1155\n",
    "        node21 = wdnsample.get_node('357')\n",
    "        node21.demand_timeseries_list[0].base_value = 1e-5\n",
    "        node22 = wdnsample.get_node('2005')\n",
    "        node22demand = node21.demand_timeseries_list[0].base_value\n",
    "        node22.demand_timeseries_list[0].base_value = node22demand - 1.15*(x2-0.1180)  \n",
    "    # The '237' node need more supply\n",
    "    elif 0.1229 < x2:\n",
    "        saving_gwtp += (1-ei)*0.1155\n",
    "        node21 = wdnsample.get_node('357')\n",
    "        node21.demand_timeseries_list[0].base_value = 1e-5\n",
    "        node22 = wdnsample.get_node('2005')\n",
    "        node22.demand_timeseries_list[0].base_value = 1e-5\n",
    "        node23 = wdnsample.get_node('237')\n",
    "        node23demand = node23.demand_timeseries_list[0].base_value\n",
    "        node23.demand_timeseries_list[0].base_value = node23demand - 1.15*(x2-0.1229)\n",
    "    \n",
    "    # x3:'NW', only supply to the main system\n",
    "    if x3 <= 0.0041:\n",
    "        node31 = wdnsample.get_node('503')\n",
    "        node31.demand_timeseries_list[0].base_value -= 1.15*x3 \n",
    "        \n",
    "    elif 0.0041 < x3 <= 0.3112:\n",
    "        node31 = wdnsample.get_node('503')\n",
    "        node31.demand_timeseries_list[0].base_value = 1e-5\n",
    "        node32 = wdnsample.get_node('3495')\n",
    "        node32.demand_timeseries_list[0].base_value -= 1.15*(x3-0.0041)\n",
    "    # The '3494' node needs more supply\n",
    "    elif 0.3112 < x3:\n",
    "        node31 = wdnsample.get_node('503')\n",
    "        node31.demand_timeseries_list[0].base_value = 1e-5\n",
    "        node32 = wdnsample.get_node('3495')\n",
    "        node32.demand_timeseries_list[0].base_value = 1e-5\n",
    "        node33 = wdnsample.get_node('3494')\n",
    "        node33.demand_timeseries_list[0].base_value -= 1.15*(x3-0.3112)\n",
    "    \n",
    "    # x4: 'WD'\n",
    "    if x4 <= 0.3911:\n",
    "        saving_gwtp += (1-ei)*x4\n",
    "    elif 0.3911 < x4:\n",
    "        saving_gwtp += (1-ei)*0.3911\n",
    "        node41 = wdnsample.get_node('3913')\n",
    "        node41.demand_timeseries_list[0].base_value -= 1.15*(x4-0.3911)\n",
    "    \n",
    "    # x5: 'AS'\n",
    "    if x5 <= 0.1262:\n",
    "        saving_gwtp +=  (1-ei)*x5\n",
    "    elif 0.1262 < x5 <= 0.1484:\n",
    "        saving_gwtp += (1-ei)*0.1262\n",
    "        node51 = wdnsample.get_node('21')\n",
    "        node51.demand_timeseries_list[0].base_value -= 1.15*(x5-0.1262)\n",
    "    elif 0.1484 < x5 <= 0.1743:\n",
    "        saving_gwtp += (1-ei)*0.1262\n",
    "        node51 = wdnsample.get_node('21')\n",
    "        node51.demand_timeseries_list[0].base_value = 1e-5\n",
    "        node52 = wdnsample.get_node('1133')\n",
    "        node52.demand_timeseries_list[0].base_value -= 1.15*(x5-0.1484)\n",
    "    elif 0.1743 < x5 <= 0.2279:\n",
    "        saving_gwtp += (1-ei)*0.1262\n",
    "        node51 = wdnsample.get_node('21')\n",
    "        node51.demand_timeseries_list[0].base_value = 1e-5\n",
    "        node52 = wdnsample.get_node('1133')\n",
    "        node52.demand_timeseries_list[0].base_value = 1e-5\n",
    "        node53 = wdnsample.get_node('369')\n",
    "        node53.demand_timeseries_list[0].base_value -= 1.15*(x5-0.1743)\n",
    "    # There will not be further saving\n",
    "    else:\n",
    "        saving_gwtp += (1-ei)*0.1262\n",
    "        node51 = wdnsample.get_node('21')\n",
    "        node51.demand_timeseries_list[0].base_value = 1e-5\n",
    "        node52 = wdnsample.get_node('1133')\n",
    "        node52.demand_timeseries_list[0].base_value = 1e-5\n",
    "        node53 = wdnsample.get_node('369')\n",
    "        node53.demand_timeseries_list[0].base_value = 1e-5\n",
    "    \n",
    "    # x6: 'SW'\n",
    "    if x6 <= 0.1893:\n",
    "        saving_gwtp += (1-ei)*x6\n",
    "    elif 0.1893 < x6 <= 0.507:\n",
    "        saving_gwtp += (1-ei)*0.1893\n",
    "        node61 = wdnsample.get_node('1317')\n",
    "        node61.demand_timeseries_list[0].base_value -= 1.15*(x6-0.1893)\n",
    "    elif 0.507 < x6 <= 0.8422:\n",
    "        saving_gwtp += (1-ei)*0.1893\n",
    "        node61 = wdnsample.get_node('1317')\n",
    "        node61.demand_timeseries_list[0].base_value = 1e-5\n",
    "        node62 = wdnsample.get_node('3920')\n",
    "        node62.demand_timeseries_list[0].base_value -= 1.15*(x6-0.507)\n",
    "    elif 0.8422 < x6 <= 0.8858:\n",
    "        saving_gwtp += (1-ei)*0.1893\n",
    "        node61 = wdnsample.get_node('1317')\n",
    "        node61.demand_timeseries_list[0].base_value = 1e-5\n",
    "        node62 = wdnsample.get_node('3920')\n",
    "        node62.demand_timeseries_list[0].base_value = 1e-5\n",
    "        node63 = wdnsample.get_node('1692')\n",
    "        node63.demand_timeseries_list[0].base_value -= 1.15*(x6-0.8422)\n",
    "    # There will not be further saving\n",
    "    else:\n",
    "        saving_gwtp += (1-ei)*0.1893\n",
    "        node61 = wdnsample.get_node('1317')\n",
    "        node61.demand_timeseries_list[0].base_value = 1e-5\n",
    "        node62 = wdnsample.get_node('3920')\n",
    "        node62.demand_timeseries_list[0].base_value = 1e-5\n",
    "        node63 = wdnsample.get_node('1692')\n",
    "        node63.demand_timeseries_list[0].base_value = 1e-5\n",
    "    \n",
    "    # x7:'TC'\n",
    "    if x7 <= 0.2208:\n",
    "        saving_gwtp += (1-ei)*x7\n",
    "    # Supply 3913  \n",
    "    else:\n",
    "        saving_gwtp += (1-ei)*0.2208\n",
    "        node63 = wdnsample.get_node('3913')\n",
    "        node63.demand_timeseries_list[0].base_value -= 1.15*(x7-0.2208)    \n",
    "    \n",
    "    # x8: 'WO' only supply to the main system\n",
    "    node81 = wdnsample.get_node('500')\n",
    "    node81.demand_timeseries_list[0].base_value -= 1.15*x8 \n",
    "    \n",
    "    # x9: 'IAH' its capacity is less than the GWTP demand \n",
    "    saving_gwtp +=  (1-ei)*x9\n",
    "    try:\n",
    "        wdnsample.options.time.duration = 2 * 3600\n",
    "        simsample = wntr.sim.WNTRSimulator(wdnsample)\n",
    "        results = simsample.run_sim()\n",
    "        # Caculate the distribution energy consumed by pumps\n",
    "        pumplist = wdnsample.pump_name_list\n",
    "        flow = results.link['flowrate']\n",
    "        head = results.node['head']\n",
    "        for link in pumplist:\n",
    "            # The flowrate along it\n",
    "            q = abs(flow.loc[0*3600, link])\n",
    "            linkobject = wdnsample.get_link(link)\n",
    "            sn = linkobject.start_node_name\n",
    "            en = linkobject.end_node_name\n",
    "            sh = head.loc[0*3600, sn]\n",
    "            eh = head.loc[0*3600, en]\n",
    "            # The energy efficiency is assumed to be 75%, directly transform to kwh\n",
    "            consump_distr += (abs(sh-eh) * q * 1e4 * 2.7778e-7/0.75)\n",
    "    except:\n",
    "        # Give a large penalty for those that can not be run\n",
    "        consump_distr = 1e4\n",
    "    total = consump_distr - saving_gwtp\n",
    "    return total "
   ]
  },
  {
   "cell_type": "markdown",
   "metadata": {},
   "source": [
    "### Initialize the problem instance"
   ]
  },
  {
   "cell_type": "code",
   "execution_count": 8,
   "metadata": {},
   "outputs": [],
   "source": [
    "from pymoo.util.misc import stack\n",
    "from pymoo.core.problem import ElementwiseProblem"
   ]
  },
  {
   "cell_type": "code",
   "execution_count": 9,
   "metadata": {},
   "outputs": [],
   "source": [
    "Scalefactor = 18.6815"
   ]
  },
  {
   "cell_type": "code",
   "execution_count": 10,
   "metadata": {},
   "outputs": [],
   "source": [
    "Xl = np.array([0, 0, 0, 0, 0, 0, 0, 0, 0, 0])"
   ]
  },
  {
   "cell_type": "code",
   "execution_count": 11,
   "metadata": {},
   "outputs": [],
   "source": [
    "# Parameters for the cost estimation\n",
    "Ac = 18740\n",
    "Bc = 0.21\n",
    "Aom = 386.9\n",
    "Bom = 0.095\n",
    "Com = 167.3\n",
    "Ei = 0.8"
   ]
  },
  {
   "cell_type": "code",
   "execution_count": 12,
   "metadata": {},
   "outputs": [],
   "source": [
    "class MyProblem(ElementwiseProblem):\n",
    "    def __init__(self):\n",
    "        # There are two equivalent constraints for the equality constraint \n",
    "        super().__init__(n_var=10,\n",
    "                         n_obj=2,\n",
    "                         n_constr=0,\n",
    "                         xl=Xl,\n",
    "                         xu=Xu)\n",
    "    def _evaluate(self, x, out, *args, **kwargs):\n",
    "        # f1 is the daily energy saving in terms of MWh \n",
    "        f1 = Scalefactor * hydraulic_energy(Ei, Wdn, x[0], x[1], x[2], x[3], x[4], x[5], x[6], x[7], x[8], x[9]) * (3.6)\n",
    "        # f2 is the normalized economic cost, unit:million, includes cost for DPR and O&M cost of WTP and GWTP\n",
    "        f2 = (Amortization*Ac*((x[0]*3600*Scalefactor)**(1-Bc)+ (x[1]*3600*Scalefactor)**(1-Bc)+(x[2]*3600*Scalefactor)**(1-Bc)+ (x[3]*3600*Scalefactor)**(1-Bc)+(x[4]*3600*Scalefactor)**(1-Bc)+(x[5]*3600*Scalefactor)**(1-Bc)+ (x[6]*3600*Scalefactor)**(1-Bc)+(x[7]*3600*Scalefactor)**(1-Bc)+ (x[8]*3600*Scalefactor)**(1-Bc)+(x[9]*3600*Scalefactor)**(1-Bc)) + \n",
    "        Aom*((x[0]*3600*Scalefactor)**(1-Bom)+ (x[1]*3600*Scalefactor)**(1-Bom)+(x[2]*3600*Scalefactor)**(1-Bom)+ (x[3]*3600*Scalefactor)**(1-Bom)+(x[4]*3600*Scalefactor)**(1-Bom)+(x[5]*3600*Scalefactor)**(1-Bom)+ (x[6]*3600*Scalefactor)**(1-Bom)+(x[7]*3600*Scalefactor)**(1-Bom)+(x[8]*3600*Scalefactor)**(1-Bom)+(x[9]*3600*Scalefactor)**(1-Bom)) -\n",
    "             Com*3600*Scalefactor*(x[0]+x[1]+x[2]+x[3]+x[4]+x[5]+x[6]+x[7]+x[8]+x[9]))*1e-6\n",
    "        \n",
    "        out[\"F\"] = [f1, f2]"
   ]
  },
  {
   "cell_type": "code",
   "execution_count": 13,
   "metadata": {},
   "outputs": [],
   "source": [
    "Elementwise_problem = MyProblem()"
   ]
  },
  {
   "cell_type": "markdown",
   "metadata": {},
   "source": [
    "### Implement the NSGA-II solver"
   ]
  },
  {
   "cell_type": "code",
   "execution_count": 14,
   "metadata": {},
   "outputs": [],
   "source": [
    "from pymoo.algorithms.moo.nsga2 import NSGA2\n",
    "from pymoo.factory import get_sampling, get_crossover, get_mutation"
   ]
  },
  {
   "cell_type": "code",
   "execution_count": 15,
   "metadata": {},
   "outputs": [],
   "source": [
    "FXinitialization = open('Xinitialization_0.8.pickle', 'rb')\n",
    "Xinitialization = pickle.load(FXinitialization)\n",
    "FXinitialization.close()"
   ]
  },
  {
   "cell_type": "code",
   "execution_count": 16,
   "metadata": {},
   "outputs": [],
   "source": [
    "Algorithm = NSGA2(pop_size = 1000, n_offsprings = 800, sampling=Xinitialization, crossover=get_crossover(\"real_sbx\", prob=0.9, eta=10),\n",
    "    mutation=get_mutation(\"real_pm\", eta=20), eliminate_duplicates=True)"
   ]
  },
  {
   "cell_type": "markdown",
   "metadata": {},
   "source": [
    "#### Define the termination rule"
   ]
  },
  {
   "cell_type": "code",
   "execution_count": 17,
   "metadata": {},
   "outputs": [],
   "source": [
    "from pymoo.factory import get_termination"
   ]
  },
  {
   "cell_type": "code",
   "execution_count": 18,
   "metadata": {},
   "outputs": [],
   "source": [
    "Termination = get_termination(\"n_gen\", 500)"
   ]
  },
  {
   "cell_type": "markdown",
   "metadata": {},
   "source": [
    "#### Optimize"
   ]
  },
  {
   "cell_type": "code",
   "execution_count": 19,
   "metadata": {},
   "outputs": [],
   "source": [
    "from pymoo.optimize import minimize"
   ]
  },
  {
   "cell_type": "code",
   "execution_count": 20,
   "metadata": {},
   "outputs": [],
   "source": [
    "Res = minimize(Elementwise_problem, Algorithm, Termination, seed=1, save_history=True, verbose=False)\n",
    "FRes = open('Res_simplified_0.8_update.pickle', 'wb')\n",
    "pickle.dump(Res, FRes)\n",
    "FRes.close()"
   ]
  },
  {
   "cell_type": "markdown",
   "metadata": {},
   "source": [
    "### Visualize the results"
   ]
  },
  {
   "cell_type": "code",
   "execution_count": 30,
   "metadata": {},
   "outputs": [],
   "source": [
    "# For the 0.8 scenario\n",
    "FRes = open('Res_simplified_0.8_update.pickle', 'rb')\n",
    "Res = pickle.load(FRes)\n",
    "FRes.close()"
   ]
  },
  {
   "cell_type": "code",
   "execution_count": 85,
   "metadata": {},
   "outputs": [],
   "source": [
    "# For the 0.4 scenario  Res.F[263, 0],\n",
    "RepreX = 409.8377 - np.array([Res.F[194, 0], Res.F[905, 0], Res.F[200, 0]])\n",
    "RepreY = np.array([Res.F[194, 1], Res.F[905, 1], Res.F[200, 1]])"
   ]
  },
  {
   "cell_type": "code",
   "execution_count": 93,
   "metadata": {},
   "outputs": [],
   "source": [
    "# For the 0.8 scenario \n",
    "RepreX = 409.8377 - np.array([Res.F[985, 0], Res.F[990, 0], Res.F[835, 0]])\n",
    "RepreY = np.array([Res.F[985, 1], Res.F[990, 1], Res.F[835, 1]])"
   ]
  },
  {
   "cell_type": "code",
   "execution_count": 24,
   "metadata": {},
   "outputs": [
    {
     "data": {
      "image/png": "[encoded data removed]",
      "text/plain": [
       "<Figure size 1800x1800 with 1 Axes>"
      ]
     },
     "metadata": {
      "needs_background": "light"
     },
     "output_type": "display_data"
    }
   ],
   "source": [
    "# Transfer back to ennergy saving, the 409.8377 is the baseline energy consumption for distribution in the backbone network\n",
    "plt.scatter(409.8377-Res.F[:, 0], Res.F[:, 1], s = 10, c = 'seagreen')\n",
    "# plt.scatter(RepreX, RepreY, marker = \"D\", s = 40, c = 'coral')\n",
    "#plt.legend(frameon=False, loc = 'upper left')\n",
    "plt.grid(linewidth=0.1)\n",
    "#plt.xlim(0, 1)\n",
    "plt.ylim(0, 32)\n",
    "plt.xlabel('Daily energy saving (MWh)')\n",
    "plt.ylabel('Annual extra economic cost (million $)')\n",
    "plt.rcParams['figure.figsize'] = (6, 6)\n",
    "plt.rcParams['savefig.dpi'] = 300 \n",
    "plt.rcParams['figure.dpi'] = 300\n",
    "plt.savefig(r\"Pareto_front_0.8_update.jpg\" , bbox_inches='tight')\n",
    "plt.show()"
   ]
  },
  {
   "cell_type": "code",
   "execution_count": 33,
   "metadata": {},
   "outputs": [
    {
     "data": {
      "text/plain": [
       "50"
      ]
     },
     "execution_count": 33,
     "metadata": {},
     "output_type": "execute_result"
    }
   ],
   "source": [
    "np.argmin(abs(Res.F[:, 1]-23))"
   ]
  },
  {
   "cell_type": "code",
   "execution_count": null,
   "metadata": {},
   "outputs": [],
   "source": []
  },
  {
   "cell_type": "markdown",
   "metadata": {},
   "source": [
    "### The specific configuration"
   ]
  },
  {
   "cell_type": "code",
   "execution_count": 34,
   "metadata": {},
   "outputs": [
    {
     "data": {
      "text/plain": [
       "array([0.101, 0.437, 0.116, 0.442, 0.391, 0.127, 0.189, 0.222, 0.001, 0.074])"
      ]
     },
     "execution_count": 34,
     "metadata": {},
     "output_type": "execute_result"
    }
   ],
   "source": [
    "# 'UB', 'KB', 'BW', 'NW', 'WD', 'AS', 'SW', 'TC', 'WO', 'IAH'\n",
    "Res.X[50]"
   ]
  },
  {
   "cell_type": "code",
   "execution_count": 32,
   "metadata": {},
   "outputs": [
    {
     "name": "stdout",
     "output_type": "stream",
     "text": [
      "[8.688e-07 4.366e-01 3.695e-05 4.421e-01 3.911e-01 1.848e-07 1.823e-02 2.190e-01 2.069e-06 7.557e-07]\n"
     ]
    }
   ],
   "source": [
    "print(Res.X[7])"
   ]
  },
  {
   "cell_type": "code",
   "execution_count": 2,
   "metadata": {},
   "outputs": [
    {
     "name": "stdout",
     "output_type": "stream",
     "text": [
      "0.07454935294643854\n"
     ]
    }
   ],
   "source": [
    "print(0.055*(1.055**25)/(1.055**25-1))"
   ]
  },
  {
   "cell_type": "code",
   "execution_count": 3,
   "metadata": {},
   "outputs": [
    {
     "name": "stdout",
     "output_type": "stream",
     "text": [
      "0.04\n"
     ]
    }
   ],
   "source": [
    "[2.082e-02 2.935e+04 8.861e-02 1.864e-03 2.629e+04 2.293e-01 1.089e-02 2.294e+02 3.606e-03 4.857e-02]\n",
    "[1.467e-02 2.936e+04 2.258e-02 2.973e+04 2.630e+04 4.502e-03 3.071e-02 1.436e+04 1.839e-05 8.305e-04]\n",
    "[6.822e+03 2.936e+04 7.778e+03 2.974e+04 2.630e+04 8.492e+03 1.275e+04 1.485e+04 2.475e-01 4.987e+03]\n",
    "[6.833e+03 2.936e+04 8.031e+03 2.973e+04 2.630e+04 1.379e+04 5.819e+04 1.490e+04 1.802e+01 4.974e+03]"
   ]
  },
  {
   "cell_type": "code",
   "execution_count": null,
   "metadata": {},
   "outputs": [],
   "source": []
  },
  {
   "cell_type": "code",
   "execution_count": 22,
   "metadata": {},
   "outputs": [
    {
     "data": {
      "text/plain": [
       "6.093933199701112"
      ]
     },
     "execution_count": 22,
     "metadata": {},
     "output_type": "execute_result"
    }
   ],
   "source": [
    "# Calculate the baseline distribution energy consumption\n",
    "Baseline_consump_distr = 0\n",
    "Wdn.options.time.duration = 2 * 3600\n",
    "Sim = wntr.sim.WNTRSimulator(Wdn)\n",
    "Results = Sim.run_sim()\n",
    "# Caculate the distribution energy consumed by pumps\n",
    "Pumplist = Wdn.pump_name_list\n",
    "Flow = Results.link['flowrate']\n",
    "Head = Results.node['head']\n",
    "for link in Pumplist:\n",
    "    # The flowrate along it\n",
    "    q = abs(Flow.loc[0*3600, link])\n",
    "    linkobject = Wdn.get_link(link)\n",
    "    sn = linkobject.start_node_name\n",
    "    en = linkobject.end_node_name\n",
    "    sh = Head.loc[0*3600, sn]\n",
    "    eh = Head.loc[0*3600, en]\n",
    "    # The energy efficiency is assumed to be 75%, directly transform to kwh\n",
    "    Baseline_consump_distr += (abs(sh-eh) * q * 1e4 * 2.7778e-7/0.75)"
   ]
  },
  {
   "cell_type": "code",
   "execution_count": 23,
   "metadata": {},
   "outputs": [
    {
     "name": "stdout",
     "output_type": "stream",
     "text": [
      "409.8377270527788\n"
     ]
    }
   ],
   "source": [
    "print(Scalefactor *Baseline_consump_distr*3.6)"
   ]
  },
  {
   "cell_type": "markdown",
   "metadata": {},
   "source": [
    "- The first representative scenario:\n",
    "Active DPRP: 'UB', 'WD', 'IAH'(5%), percent of GWTP: 38.3% <br>\n",
    "- The second representative scenario:\n",
    "Active DPRP: 'UB', 'KB', 'WD', 'AS'(6.4%), 'SW'(11.9%), 'TC': (70.5%), 'IAH'\n",
    "percent of GWTP: 77.3% <br>\n",
    "- The third representative scenario:\n",
    "'UB', 'KB', 'NW', 'WD', 'AS'(7.4%), 'SW'(11.2%), 'TC': (70.5%), 'IAH' "
   ]
  },
  {
   "cell_type": "code",
   "execution_count": null,
   "metadata": {},
   "outputs": [],
   "source": [
    "# Visualize the convergence \n",
    "N_evals = []    # corresponding number of function evaluations\\\n",
    "F = []          # the objective space values in each generation\n",
    "Cv = []         # constraint violation in each generation\n",
    "\n",
    "\n",
    "# iterate over the deepcopies of algorithms\n",
    "for Algorithm in Res.history:\n",
    "\n",
    "    # store the number of function evaluations\n",
    "    N_evals.append(Algorithm.evaluator.n_eval)\n",
    "\n",
    "    # retrieve the optimum from the algorithm\n",
    "    Opt = Algorithm.opt\n",
    "\n",
    "    # store the least contraint violation in this generation\n",
    "    Cv.append(Opt.get(\"CV\").min())\n",
    "\n",
    "    # filter out only the feasible and append\n",
    "    Feas = np.where(Opt.get(\"feasible\"))[0]\n",
    "    _F = Opt.get(\"F\")[Feas]\n",
    "    F.append(_F)"
   ]
  },
  {
   "cell_type": "code",
   "execution_count": null,
   "metadata": {},
   "outputs": [],
   "source": [
    "# MODIFY - this is problem dependend\n",
    "Ref_point = np.array([0, 1.0])\n",
    "\n",
    "# create the performance indicator object with reference point\n",
    "Metric = Hypervolume(ref_point = None, normalize=True, bounds = np.array([[np.min(Res.F[:,0]), np.min(Res.F[:,1])],[np.max(Res.F[:,0]), np.max(Res.F[:,1])]]))\n",
    "\n",
    "# calculate for each generation the HV metric\n",
    "HV = [Metric.calc(f) for f in F]"
   ]
  },
  {
   "cell_type": "code",
   "execution_count": null,
   "metadata": {},
   "outputs": [],
   "source": [
    "# visualze the convergence curve\n",
    "plt.plot(N_evals, HV, '-s', markersize = 3, color = 'cadetblue', linewidth=1)\n",
    "plt.grid(linewidth=0.2)\n",
    "# plt.title(\"Convergence\")\n",
    "#plt.xlim(0, 5e6)\n",
    "plt.ylim(0, 0.5)\n",
    "plt.xlabel(\"Function evaluations\")\n",
    "plt.ylabel(\"Hypervolume\")\n",
    "plt.rcParams['figure.figsize'] = (6, 6)\n",
    "plt.rcParams['savefig.dpi'] = 300 \n",
    "plt.rcParams['figure.dpi'] = 300\n",
    "plt.savefig(r\"Backbone_Convergence_For0.8.jpg\" , bbox_inches='tight')\n",
    "plt.show()"
   ]
  }
 ],
 "metadata": {
  "kernelspec": {
   "display_name": "Python 3",
   "language": "python",
   "name": "python3"
  },
  "language_info": {
   "codemirror_mode": {
    "name": "ipython",
    "version": 3
   },
   "file_extension": ".py",
   "mimetype": "text/x-python",
   "name": "python",
   "nbconvert_exporter": "python",
   "pygments_lexer": "ipython3",
   "version": "3.8.8"
  }
 },
 "nbformat": 4,
 "nbformat_minor": 4
}
